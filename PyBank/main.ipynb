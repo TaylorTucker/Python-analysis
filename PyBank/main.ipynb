{
 "cells": [
  {
   "cell_type": "code",
   "execution_count": 2,
   "metadata": {},
   "outputs": [],
   "source": [
    "from pathlib import Path\n",
    "import csv"
   ]
  },
  {
   "cell_type": "code",
   "execution_count": 3,
   "metadata": {},
   "outputs": [
    {
     "name": "stdout",
     "output_type": "stream",
     "text": [
      "Directory C:\\Users\\taylo\\Desktop\\Rice\\Homeworks\\Rice-Homework\\2_Homeworks\\02-Python\\Python-analysis\\PyBank\n"
     ]
    }
   ],
   "source": [
    "print(f\"Directory {Path.cwd()}\")"
   ]
  },
  {
   "cell_type": "code",
   "execution_count": 4,
   "metadata": {},
   "outputs": [
    {
     "data": {
      "text/plain": [
       "WindowsPath('budget_data.csv')"
      ]
     },
     "execution_count": 4,
     "metadata": {},
     "output_type": "execute_result"
    }
   ],
   "source": [
    "# Define path\n",
    "csvpath = Path('budget_data.csv')\n",
    "csvpath"
   ]
  },
  {
   "cell_type": "code",
   "execution_count": 18,
   "metadata": {},
   "outputs": [
    {
     "name": "stdout",
     "output_type": "stream",
     "text": [
      "\n",
      "Financial Analysis\n",
      "----------------------------\n",
      "Total Months: 86\n",
      "Total Revenue: $38382578\n",
      "Average Revenue Change: $446309.05\n",
      "Greatest Increase in Revenue: Feb-2012 ($1170593)\n",
      "Greatest Decrease in Revenue: Sep-2013 ($-1196225)\n",
      "\n"
     ]
    }
   ],
   "source": [
    "# Open input path as file object and exclude header\n",
    "with open(csvpath, 'r') as csvfile:\n",
    "    csvreader = csv.reader(csvfile, delimiter=\",\")\n",
    "    csv_header = next(csvreader)\n",
    "    # initialize variables to hold lists \n",
    "    months = []\n",
    "    incomes = []\n",
    "    income = 0\n",
    " # assign months list to column 1, income to column 2, values in column to as integers    \n",
    "    for row in csvreader:\n",
    "        months.append(row[0])\n",
    "        incomes.append(row[1])\n",
    "        income += int(row[1])\n",
    "    #count number of months\n",
    "    total_months = len(months)\n",
    "    #Sum of all cash flows\n",
    "    net_income = income\n",
    "    #Average of cash flows\n",
    "    average_change = round(net_income / total_months, 2)\n",
    "    #Set Inc and Dec vaiables\n",
    "    big_inc = 0\n",
    "    big_dec = 0\n",
    "    #find largest and smallest cash flow\n",
    "    for value in incomes:\n",
    "        if int(value) > big_inc:\n",
    "            big_inc = int(value)\n",
    "        elif int(value) < big_dec:\n",
    "            big_dec = int(value)\n",
    "    #match months of largest and smallest cash flow\n",
    "    prof_month = incomes.index(str(big_inc))\n",
    "    loss_month = incomes.index(str(big_dec))\n",
    "    #format output\n",
    "    output = output = (\n",
    "    f\"\\nFinancial Analysis\\n\"\n",
    "    f\"----------------------------\\n\"\n",
    "    f\"Total Months: {total_months}\\n\"\n",
    "    f\"Total Revenue: ${net_income}\\n\"\n",
    "    f\"Average Revenue Change: ${average_change}\\n\"\n",
    "    f\"Greatest Increase in Revenue: {months[prof_month]} (${big_inc})\\n\"\n",
    "    f\"Greatest Decrease in Revenue: {months[loss_month]} (${big_dec})\\n\")\n",
    "    print(output)"
   ]
  }
 ],
 "metadata": {
  "kernelspec": {
   "display_name": "Python 3",
   "language": "python",
   "name": "python3"
  },
  "language_info": {
   "codemirror_mode": {
    "name": "ipython",
    "version": 3
   },
   "file_extension": ".py",
   "mimetype": "text/x-python",
   "name": "python",
   "nbconvert_exporter": "python",
   "pygments_lexer": "ipython3",
   "version": "3.8.5"
  }
 },
 "nbformat": 4,
 "nbformat_minor": 4
}
