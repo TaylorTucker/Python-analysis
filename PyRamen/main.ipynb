{
 "cells": [
  {
   "cell_type": "code",
   "execution_count": 1,
   "metadata": {},
   "outputs": [],
   "source": [
    "from pathlib import Path\n",
    "import csv"
   ]
  },
  {
   "cell_type": "code",
   "execution_count": 2,
   "metadata": {},
   "outputs": [],
   "source": [
    "# Define path of Sales and menu data\n",
    "sales_path = Path('Resources/sales_data.csv')\n",
    "menu_path = Path('Resources/menu_data.csv')"
   ]
  },
  {
   "cell_type": "code",
   "execution_count": 3,
   "metadata": {},
   "outputs": [],
   "source": [
    "#Initialize an empty `menu` list object to hold the contents of `menu_data.csv`\n",
    "menu = []\n",
    "with open(menu_path, 'r') as menu_data:\n",
    "    csvreader = csv.reader(menu_data, delimiter = \",\")\n",
    "    csv_header = next(csvreader)\n",
    "    for data in csv.reader(menu_data):\n",
    "        menu.append(data)"
   ]
  },
  {
   "cell_type": "code",
   "execution_count": 4,
   "metadata": {},
   "outputs": [],
   "source": [
    "sales = []\n",
    "with open(sales_path, 'r') as sales_data:\n",
    "    csvreader = csv.reader(sales_data, delimiter = \",\")\n",
    "    csv_header = next(csvreader)\n",
    "    for row in csv.reader(sales_data):\n",
    "        sales.append(row)"
   ]
  },
  {
   "cell_type": "code",
   "execution_count": 5,
   "metadata": {},
   "outputs": [],
   "source": [
    "# Initialize an empty `report` dictionary to hold the future aggregated per-product results. The `report` dictionary will eventually contain the following metrics:\n",
    "report = {}"
   ]
  },
  {
   "cell_type": "code",
   "execution_count": 6,
   "metadata": {},
   "outputs": [],
   "source": [
    "# define metrics\n",
    "row_count = 0\n",
    "count = 0\n",
    "rev = 0.0\n",
    "cogs = 0.0\n",
    "net_prof = 0.0\n"
   ]
  },
  {
   "cell_type": "code",
   "execution_count": 7,
   "metadata": {},
   "outputs": [],
   "source": [
    "# count quanity of each menue item\n",
    "for row in sales:\n",
    "    menu_item = row[4]\n",
    "    count = int(row[3])\n",
    "    row_count += 1\n",
    "    if menu_item not in report.keys():\n",
    "        report[menu_item] = {\"count\":count,} \n",
    "    else:\n",
    "        report[menu_item][\"count\"] += count\n"
   ]
  },
  {
   "cell_type": "code",
   "execution_count": 19,
   "metadata": {},
   "outputs": [
    {
     "name": "stdout",
     "output_type": "stream",
     "text": [
      "{'spicy miso ramen': {'count': 9238, 'rev': 110856.0, 'cogs': 46190.0, 'net_prof': 64666.0}, 'tori paitan ramen': {'count': 9156, 'rev': 119028.0, 'cogs': 54936.0, 'net_prof': 64092.0}, 'truffle butter ramen': {'count': 8982, 'rev': 125748.0, 'cogs': 62874.0, 'net_prof': 62874.0}, 'tonkotsu ramen': {'count': 9288, 'rev': 120744.0, 'cogs': 55728.0, 'net_prof': 65016.0}, 'vegetarian spicy miso': {'count': 9216, 'rev': 110592.0, 'cogs': 46080.0, 'net_prof': 64512.0}, 'shio ramen': {'count': 9180, 'rev': 100980.0, 'cogs': 45900.0, 'net_prof': 55080.0}, 'miso crab ramen': {'count': 8890, 'rev': 106680.0, 'cogs': 53340.0, 'net_prof': 53340.0}, 'nagomi shoyu': {'count': 9132, 'rev': 100452.0, 'cogs': 45660.0, 'net_prof': 54792.0}, 'soft-shell miso crab ramen': {'count': 9130, 'rev': 127820.0, 'cogs': 63910.0, 'net_prof': 63910.0}, 'burnt garlic tonkotsu ramen': {'count': 9070, 'rev': 126980.0, 'cogs': 54420.0, 'net_prof': 72560.0}, 'vegetarian curry + king trumpet mushroom ramen': {'count': 8824, 'rev': 114712.0, 'cogs': 61768.0, 'net_prof': 52944.0}}\n"
     ]
    }
   ],
   "source": [
    "# Caluclate price, cost of goods sold, and profit of items in existing in both sales and menu data.\n",
    "for line in menu:\n",
    "    item = line[0]\n",
    "    price = (float(line[3]))\n",
    "    cost = (float(line[4]))\n",
    "    if item in report.keys():\n",
    "        report[item][\"rev\"] = report[item][\"count\"] * price\n",
    "        report[item][\"cogs\"] = report[item][\"count\"] * cost\n",
    "        report[item][\"net_prof\"] = report[item][\"count\"] * (price - cost)\n",
    "print(report)\n"
   ]
  },
  {
   "cell_type": "code",
   "execution_count": 24,
   "metadata": {},
   "outputs": [],
   "source": [
    "# convert report to .txt file\n",
    "hw2=\"PyRamenOutput.txt\"\n",
    "output = (str(report).replace('}, ',',\\n '))\n",
    "with open(hw2,\"w\") as data:\n",
    "    data.write(output)"
   ]
  }
 ],
 "metadata": {
  "kernelspec": {
   "display_name": "Python 3",
   "language": "python",
   "name": "python3"
  },
  "language_info": {
   "codemirror_mode": {
    "name": "ipython",
    "version": 3
   },
   "file_extension": ".py",
   "mimetype": "text/x-python",
   "name": "python",
   "nbconvert_exporter": "python",
   "pygments_lexer": "ipython3",
   "version": "3.8.5"
  }
 },
 "nbformat": 4,
 "nbformat_minor": 4
}
